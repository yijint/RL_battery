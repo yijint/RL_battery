{
 "cells": [
  {
   "cell_type": "code",
   "execution_count": 10,
   "id": "e3627888-d807-48cc-9d1e-3929b907db25",
   "metadata": {
    "scrolled": true
   },
   "outputs": [
    {
     "name": "stdout",
     "output_type": "stream",
     "text": [
      "['EnergyStorageEnv-v1']\n",
      "Retrieving data for 2021-10-01...\n",
      "Data retrieved!\n"
     ]
    },
    {
     "data": {
      "text/plain": [
       "<OrderEnforcing<PassiveEnvChecker<EnergyStorageEnv<EnergyStorageEnv-v1>>>>"
      ]
     },
     "execution_count": 10,
     "metadata": {},
     "output_type": "execute_result"
    }
   ],
   "source": [
    "from energy_storage_env import EnergyStorageEnv\n",
    "from gymnasium.envs.registration import register\n",
    "\n",
    "register(\n",
    "    id=\"EnergyStorageEnv-v1\",\n",
    "    entry_point=\"energy_storage_env:EnergyStorageEnv\",\n",
    ")\n",
    "\n",
    "from gymnasium import envs\n",
    "\n",
    "env_list = [env_spec.id for env_spec in envs.registry.values() if 'EnergyStorage' in env_spec.id]\n",
    "print(env_list)\n",
    "\n",
    "import gymnasium as gym\n",
    "gym.make(\"EnergyStorageEnv-v1\")"
   ]
  }
 ],
 "metadata": {
  "kernelspec": {
   "display_name": "thesis [~/.conda/envs/thesis/]",
   "language": "python",
   "name": "conda_thesis"
  },
  "language_info": {
   "codemirror_mode": {
    "name": "ipython",
    "version": 3
   },
   "file_extension": ".py",
   "mimetype": "text/x-python",
   "name": "python",
   "nbconvert_exporter": "python",
   "pygments_lexer": "ipython3",
   "version": "3.8.3"
  }
 },
 "nbformat": 4,
 "nbformat_minor": 5
}
