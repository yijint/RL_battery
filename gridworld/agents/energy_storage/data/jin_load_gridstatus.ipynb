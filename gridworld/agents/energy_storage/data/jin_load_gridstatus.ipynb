{
 "cells": [
  {
   "cell_type": "code",
   "execution_count": 1,
   "id": "5fef6a5d-c99d-4f51-b0be-aa71f2d45eaf",
   "metadata": {},
   "outputs": [],
   "source": [
    "import gridstatus"
   ]
  },
  {
   "cell_type": "code",
   "execution_count": null,
   "id": "32391ef6-44b4-4e35-a3d1-bac8b72ac52f",
   "metadata": {},
   "outputs": [],
   "source": []
  }
 ],
 "metadata": {
  "kernelspec": {
   "display_name": "gridworld [~/.conda/envs/gridworld/]",
   "language": "python",
   "name": "conda_gridworld"
  },
  "language_info": {
   "codemirror_mode": {
    "name": "ipython",
    "version": 3
   },
   "file_extension": ".py",
   "mimetype": "text/x-python",
   "name": "python",
   "nbconvert_exporter": "python",
   "pygments_lexer": "ipython3",
   "version": "3.8.20"
  }
 },
 "nbformat": 4,
 "nbformat_minor": 5
}
